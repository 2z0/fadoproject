{
 "cells": [
  {
   "cell_type": "code",
   "execution_count": 6,
   "id": "editorial-arbor",
   "metadata": {},
   "outputs": [],
   "source": [
    "from urllib.request import urlopen\n",
    "import pandas as pd\n",
    "from bs4 import BeautifulSoup\n",
    "import webbrowser\n",
    "import dart_fss as dart\n",
    "import json\n",
    "import pymysql\n",
    "import info"
   ]
  },
  {
   "cell_type": "code",
   "execution_count": 8,
   "id": "increasing-water",
   "metadata": {},
   "outputs": [],
   "source": [
    "conn = pymysql.connect(host=info.myHost,user=info.myUser,password=info.myPw,db=info.myDb,charset=\"utf8\")\n",
    "cur = conn.cursor()"
   ]
  },
  {
   "cell_type": "code",
   "execution_count": 9,
   "id": "sophisticated-oxide",
   "metadata": {},
   "outputs": [],
   "source": [
    "#삼성전자, LG화학, 카카오\n",
    "company_code_list=[\"00126380\",\"00356361\",\"00258801\"]\n",
    "bsns_year=[\"2015\",\"2016\",\"2017\",\"2018\",\"2019\",\"2020\"]\n",
    "#1분기보고서 : 11013, 반기보고서 : 110123, \n",
    "#분기보고서 : 11014, 사업보고서 : 11011\n",
    "reprt_code=[\"11013\",\"11012\",\"11014\",\"11011\"]"
   ]
  },
  {
   "cell_type": "code",
   "execution_count": 10,
   "id": "automotive-kuwait",
   "metadata": {
    "scrolled": true
   },
   "outputs": [
    {
     "name": "stdout",
     "output_type": "stream",
     "text": [
      "INSERT INTO corp_financial_statement values ('00126380',2015,'11011',200653482000000,26413442000000,19060144000000,179059805000000,63119716000000)\n",
      "INSERT INTO corp_financial_statement values ('00356361',2015,'11011',20206583000000,1823568000000,1148531000000,13103522000000,5475206000000)\n",
      "INSERT INTO corp_financial_statement values ('00258801',2015,'11011',932151827086,88588297005,78764757714,2585474995627,603002737682)\n",
      "INSERT INTO corp_financial_statement values ('00126380',2016,'11013',49782252000000,6675812000000,5252803000000,178326186000000,62913603000000)\n",
      "INSERT INTO corp_financial_statement values ('00356361',2016,'11013',4874092000000,457745000000,338125000000,13106349000000,5753936000000)\n",
      "INSERT INTO corp_financial_statement values ('00258801',2016,'11013',242483260813,21089734631,10949664522,3416726395085,1772972395012)\n",
      "INSERT INTO corp_financial_statement values ('00126380',2016,'11012',50937120000000,8143950000000,5847393000000,181842516000000,62118157000000)\n",
      "INSERT INTO corp_financial_statement values ('00356361',2016,'11012',5219229000000,612453000000,375484000000,13463761000000,6362347000000)\n",
      "INSERT INTO corp_financial_statement values ('00258801',2016,'11012',376519484836,26619074813,13238886896,3511437912776,1703390806828)\n",
      "INSERT INTO corp_financial_statement values ('00126380',2016,'11014',47815633000000,5200089000000,4537855000000,179536379000000,64935077000000)\n",
      "INSERT INTO corp_financial_statement values ('00356361',2016,'11014',5054278000000,459997000000,297428000000,13672294000000,6367397000000)\n",
      "INSERT INTO corp_financial_statement values ('00126380',2016,'11011',201866745000000,29240672000000,22726092000000,192963033000000,69211291000000)\n",
      "INSERT INTO corp_financial_statement values ('00356361',2016,'11011',20659296000000,1991920000000,1280994000000,14050967000000,6436093000000)\n",
      "INSERT INTO corp_financial_statement values ('00258801',2016,'11011',1464232790315,116135055801,65455116983,3702943850948,1781173329468)\n",
      "INSERT INTO corp_financial_statement values ('00126380',2017,'11013',50547526000000,9898361000000,7684354000000,189817955000000,74399417000000)\n",
      "INSERT INTO corp_financial_statement values ('00356361',2017,'11013',6486668000000,796908000000,548097000000,14905845000000,7265334000000)\n",
      "INSERT INTO corp_financial_statement values ('00258801',2017,'11013',443786599893,38333392077,54485548398,3746965874600,1747671806745)\n",
      "INSERT INTO corp_financial_statement values ('00126380',2017,'11012',61000537000000,14066547000000,11053851000000,200705748000000,76883688000000)\n",
      "INSERT INTO corp_financial_statement values ('00356361',2017,'11012',6382062000000,726870000000,590322000000,15534636000000,7136483000000)\n",
      "INSERT INTO corp_financial_statement values ('00258801',2017,'11012',468442772945,44638452098,12502580952,3992153424926,1817898693962)\n",
      "INSERT INTO corp_financial_statement values ('00126380',2017,'11014',62048901000000,14533159000000,11193411000000,210691251000000,85887328000000)\n",
      "INSERT INTO corp_financial_statement values ('00356361',2017,'11014',6397083000000,789698000000,545452000000,16121798000000,7585752000000)\n",
      "INSERT INTO corp_financial_statement values ('00258801',2017,'11014',515412543057,47365908769,39901788492,4445224874915,2048873064957)\n",
      "INSERT INTO corp_financial_statement values ('00126380',2017,'11011',239575376000000,53645038000000,42186747000000,214491428000000,87260662000000)\n",
      "INSERT INTO corp_financial_statement values ('00356361',2017,'11011',25698014000000,2928457000000,2021973000000,16338577000000,8702644000000)\n",
      "INSERT INTO corp_financial_statement values ('00126380',2018,'11013',60563714000000,15642170000000,11688544000000,223259880000000,89213233000000)\n",
      "INSERT INTO corp_financial_statement values ('00356361',2018,'11013',6553590000000,650841000000,552744000000,16510240000000,9905259000000)\n",
      "INSERT INTO corp_financial_statement values ('00126380',2018,'11012',58482658000000,14869035000000,11043412000000,233124845000000,85563535000000)\n",
      "INSERT INTO corp_financial_statement values ('00356361',2018,'11012',7051853000000,703291000000,493395000000,17008674000000,10390608000000)\n",
      "INSERT INTO corp_financial_statement values ('00126380',2018,'11014',65459993000000,17574865000000,13150715000000,242103160000000,95092626000000)\n",
      "INSERT INTO corp_financial_statement values ('00356361',2018,'11014',7234858000000,602379000000,346600000000,17257314000000,11161946000000)\n",
      "INSERT INTO corp_financial_statement values ('00126380',2018,'11011',243771415000000,58886669000000,44344857000000,247753177000000,91604067000000)\n",
      "INSERT INTO corp_financial_statement values ('00356361',2018,'11011',28183013000000,2246070000000,1519312000000,17322128000000,11622009000000)\n",
      "INSERT INTO corp_financial_statement values ('00126380',2019,'11013',52385546000000,6233282000000,5043585000000,253215151000000,91852732000000)\n",
      "INSERT INTO corp_financial_statement values ('00356361',2019,'11013',6639073000000,275367000000,211938000000,17199291000000,14012994000000)\n",
      "INSERT INTO corp_financial_statement values ('00126380',2019,'11012',56127104000000,6597065000000,5180576000000,257747033000000,85193101000000)\n",
      "INSERT INTO corp_financial_statement values ('00356361',2019,'11012',7177444000000,267515000000,83823000000,17278855000000,15156692000000)\n",
      "INSERT INTO corp_financial_statement values ('00126380',2019,'11014',62003471000000,7777892000000,6287664000000,263442244000000,89943741000000)\n",
      "INSERT INTO corp_financial_statement values ('00356361',2019,'11014',7347303000000,380274000000,137185000000,17490783000000,16039976000000)\n",
      "INSERT INTO corp_financial_statement values ('00126380',2019,'11011',230400881000000,27768509000000,21738865000000,262880421000000,89684076000000)\n",
      "INSERT INTO corp_financial_statement values ('00356361',2019,'11011',28625042000000,895648000000,376104000000,17383789000000,16640637000000)\n",
      "INSERT INTO corp_financial_statement values ('00126380',2020,'11013',55325178000000,6447345000000,4884926000000,266387723000000,91069812000000)\n",
      "INSERT INTO corp_financial_statement values ('00356361',2020,'11013',7115729000000,236458000000,36347000000,17416089000000,19705039000000)\n",
      "INSERT INTO corp_financial_statement values ('00126380',2020,'11012',52966142000000,8146292000000,5555083000000,269807817000000,88151682000000)\n",
      "INSERT INTO corp_financial_statement values ('00356361',2020,'11012',6935191000000,571642000000,419070000000,17842416000000,20733879000000)\n",
      "INSERT INTO corp_financial_statement values ('00126380',2020,'11014',66964160000000,12353238000000,9360693000000,276136188000000,99652554000000)\n",
      "INSERT INTO corp_financial_statement values ('00356361',2020,'11014',7507281000000,902084000000,570387000000,18820580000000,21198289000000)\n",
      "INSERT INTO corp_financial_statement values ('00126380',2020,'11011',236806988000000,35993876000000,26407832000000,275948016000000,102287702000000)\n",
      "INSERT INTO corp_financial_statement values ('00356361',2020,'11011',30076510000000,1798159000000,682408000000,18790440000000,22598454000000)\n"
     ]
    }
   ],
   "source": [
    "sql =\"truncate corp_financial_statement\"\n",
    "cur.execute(sql)\n",
    "\n",
    "for year in bsns_year:\n",
    "    for reprt in reprt_code:\n",
    "        for company_code in company_code_list:\n",
    "            url = \"https://opendart.fss.or.kr/api/fnlttSinglAcnt.json?crtfc_key=\"+info.crtfc_key+\"&corp_code=\"+company_code+\"&bsns_year=\"+year+\"&reprt_code=\"+reprt\n",
    "            resultXML=urlopen(url)  #this is for response of XML\n",
    "            stringText=resultXML.read().decode(\"utf-8\")\n",
    "            data = json.loads(stringText)\n",
    "        \n",
    "            #데이터가 접근가능상태인가?\n",
    "            if(data[\"status\"]==\"000\"):\n",
    "                for item in data['list']:\n",
    "                    #연결재무재표만 query\n",
    "                    if item['fs_div'] in ['CFS']:   \n",
    "                        if item['account_nm'] in ['매출액']:\n",
    "                            ss = item['thstrm_amount'].replace(\",\",\"\")\n",
    "                        if item['account_nm'] in ['영업이익']:\n",
    "                            oi= item['thstrm_amount'].replace(\",\",\"\")\n",
    "                        if item['account_nm'] in ['당기순이익']:\n",
    "                            ni = item['thstrm_amount'].replace(\",\",\"\")\n",
    "                        if item['account_nm'] in ['자본총계']:\n",
    "                            tl = item['thstrm_amount'].replace(\",\",\"\")\n",
    "                        if item['account_nm'] in ['부채총계']:\n",
    "                            te = item['thstrm_amount'].replace(\",\",\"\")\n",
    "                \n",
    "                #null check\n",
    "                if ss:\n",
    "                    if oi:\n",
    "                        if ni:\n",
    "                            if tl:\n",
    "                                if te:\n",
    "                                    sql = \"INSERT INTO corp_financial_statement values ('\"+company_code+\"',\"+year+\",'\"+reprt+\"',\"+ss+\",\"+oi+\",\"+ni+\",\"+tl+\",\"+te+\")\"\n",
    "                                    ss, oi, ni, tl, te = None,None,None,None,None\n",
    "                                    print(sql)\n",
    "                                    cur.execute(sql)    \n",
    "                    "
   ]
  },
  {
   "cell_type": "code",
   "execution_count": 11,
   "id": "chicken-hollywood",
   "metadata": {},
   "outputs": [],
   "source": [
    "conn.commit()\n",
    "conn.close()"
   ]
  },
  {
   "cell_type": "code",
   "execution_count": null,
   "id": "thick-martin",
   "metadata": {},
   "outputs": [],
   "source": []
  }
 ],
 "metadata": {
  "kernelspec": {
   "display_name": "Python 3",
   "language": "python",
   "name": "python3"
  },
  "language_info": {
   "codemirror_mode": {
    "name": "ipython",
    "version": 3
   },
   "file_extension": ".py",
   "mimetype": "text/x-python",
   "name": "python",
   "nbconvert_exporter": "python",
   "pygments_lexer": "ipython3",
   "version": "3.7.9"
  }
 },
 "nbformat": 4,
 "nbformat_minor": 5
}
