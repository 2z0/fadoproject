{
 "cells": [
  {
   "cell_type": "code",
   "execution_count": 2,
   "id": "ready-orange",
   "metadata": {},
   "outputs": [],
   "source": [
    "import requests\n",
    "from io import BytesIO\n",
    "import zipfile \n",
    "import xmltodict\n",
    "import json\n",
    "import pymysql"
   ]
  },
  {
   "cell_type": "code",
   "execution_count": 4,
   "id": "pretty-chassis",
   "metadata": {},
   "outputs": [],
   "source": [
    "conn = pymysql.connect(host=myHost,user=myUser,password=myPw,db=myDb,charset=\"utf8\")\n",
    "cur = conn.cursor()"
   ]
  },
  {
   "cell_type": "code",
   "execution_count": 7,
   "id": "genetic-crazy",
   "metadata": {},
   "outputs": [
    {
     "name": "stderr",
     "output_type": "stream",
     "text": [
      "IOPub data rate exceeded.\n",
      "The notebook server will temporarily stop sending output\n",
      "to the client in order to avoid crashing it.\n",
      "To change this limit, set the config variable\n",
      "`--NotebookApp.iopub_data_rate_limit`.\n",
      "\n",
      "Current values:\n",
      "NotebookApp.iopub_data_rate_limit=1000000.0 (bytes/sec)\n",
      "NotebookApp.rate_limit_window=3.0 (secs)\n",
      "\n"
     ]
    }
   ],
   "source": [
    "crtfc_key = \"-\"\n",
    "api = 'https://opendart.fss.or.kr/api/corpCode.xml'\n",
    "\n",
    "res = requests.get(api, params={'crtfc_key': crtfc_key})\n",
    "z = zipfile.ZipFile(BytesIO(res.content))\n",
    "data_xml = z.read('CORPCODE.xml').decode('utf-8')\n",
    "data_odict = xmltodict.parse(data_xml)\n",
    "data_dict = json.loads(json.dumps(data_odict))\n",
    "data = data_dict.get('result', {}).get('list')"
   ]
  },
  {
   "cell_type": "code",
   "execution_count": 68,
   "id": "prompt-pacific",
   "metadata": {},
   "outputs": [
    {
     "name": "stdout",
     "output_type": "stream",
     "text": [
      "{'corp_code': '00126380', 'corp_name': '삼성전자', 'stock_code': '005930', 'modify_date': '20201209'}\n",
      "삼성전자\n"
     ]
    }
   ],
   "source": [
    "\n",
    "for item in data:\n",
    "    if item['stock_code'] in [\"005930\"]:\n",
    "        print(item)\n",
    "        print(item['corp_name'])\n",
    "        sql = \"update company_info set corp_code = '\"+item['corp_code']+\"',modify_date ='\"+item['modify_date']+\"' where stock_code='\"+item['stock_code']+\"'\"\n",
    "        cur.execute(sql)"
   ]
  },
  {
   "cell_type": "code",
   "execution_count": 69,
   "id": "organic-billion",
   "metadata": {},
   "outputs": [],
   "source": [
    "conn.commit()\n",
    "conn.close()"
   ]
  },
  {
   "cell_type": "code",
   "execution_count": null,
   "id": "violent-norfolk",
   "metadata": {},
   "outputs": [],
   "source": []
  }
 ],
 "metadata": {
  "kernelspec": {
   "display_name": "Python 3",
   "language": "python",
   "name": "python3"
  },
  "language_info": {
   "codemirror_mode": {
    "name": "ipython",
    "version": 3
   },
   "file_extension": ".py",
   "mimetype": "text/x-python",
   "name": "python",
   "nbconvert_exporter": "python",
   "pygments_lexer": "ipython3",
   "version": "3.7.9"
  }
 },
 "nbformat": 4,
 "nbformat_minor": 5
}
