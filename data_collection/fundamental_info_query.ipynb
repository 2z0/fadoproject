{
 "cells": [
  {
   "cell_type": "code",
   "execution_count": 35,
   "id": "missing-heaven",
   "metadata": {},
   "outputs": [],
   "source": [
    "from pykrx import stock\n",
    "from datetime import datetime, timedelta\n",
    "import pymysql\n",
    "import info\n",
    "import sqlalchemy\n",
    "import pandas as pd"
   ]
  },
  {
   "cell_type": "code",
   "execution_count": 5,
   "id": "phantom-consolidation",
   "metadata": {},
   "outputs": [],
   "source": [
    "\n",
    "SQLURI='mysql+mysqlconnector://'+info.myUser+\":\"+info.myPw+\"@\"+info.myHost+\":3306/\"+info.myDb\n",
    "engine = sqlalchemy.create_engine(SQLURI, echo=False)\n"
   ]
  },
  {
   "cell_type": "code",
   "execution_count": 22,
   "id": "rotary-jonathan",
   "metadata": {},
   "outputs": [],
   "source": [
    "company_code_list=[\"005930\",\"051910\",\"035720\"] #삼성, LG화학, kakao\n",
    "today = datetime.today()\n",
    "threeYearsAgo = datetime.today()-timedelta(1095)"
   ]
  },
  {
   "cell_type": "code",
   "execution_count": 37,
   "id": "beginning-voluntary",
   "metadata": {},
   "outputs": [
    {
     "name": "stdout",
     "output_type": "stream",
     "text": [
      "        date    bps   per   pbr   eps   div  dps stock_code\n",
      "0 2018-06-04  28126  8.52  1.82  5997  1.66  850     005930\n",
      "1 2018-06-05  28126  8.55  1.82  5997  1.66  850     005930\n",
      "2 2018-06-07  28126  8.44  1.80  5997  1.68  850     005930\n",
      "3 2018-06-08  28126  8.28  1.77  5997  1.71  850     005930\n",
      "4 2018-06-11  28126  8.32  1.77  5997  1.70  850     005930\n",
      "5 2018-06-12  28126  8.24  1.76  5997  1.72  850     005930\n",
      "6 2018-06-14  28126  8.04  1.71  5997  1.76  850     005930\n",
      "7 2018-06-15  28126  7.95  1.69  5997  1.78  850     005930\n",
      "8 2018-06-18  28126  7.77  1.66  5997  1.82  850     005930\n",
      "9 2018-06-19  28126  7.84  1.67  5997  1.81  850     005930\n",
      "        date     bps    per   pbr    eps   div   dps stock_code\n",
      "0 2018-06-04  206544  14.31  1.76  25367  1.65  6000     051910\n",
      "1 2018-06-05  206544  14.33  1.76  25367  1.65  6000     051910\n",
      "2 2018-06-07  206544  14.53  1.78  25367  1.63  6000     051910\n",
      "3 2018-06-08  206544  14.80  1.82  25367  1.60  6000     051910\n",
      "4 2018-06-11  206544  14.86  1.83  25367  1.59  6000     051910\n",
      "5 2018-06-12  206544  15.00  1.84  25367  1.58  6000     051910\n",
      "6 2018-06-14  206544  14.59  1.79  25367  1.62  6000     051910\n",
      "7 2018-06-15  206544  14.72  1.81  25367  1.61  6000     051910\n",
      "8 2018-06-18  206544  14.45  1.77  25367  1.64  6000     051910\n",
      "9 2018-06-19  206544  13.78  1.69  25367  1.72  6000     051910\n",
      "        date    bps    per   pbr   eps   div  dps stock_code\n",
      "0 2018-06-04  59332  67.42  1.82  1602  0.14  148     035720\n",
      "1 2018-06-05  59332  69.60  1.88  1602  0.13  148     035720\n",
      "2 2018-06-07  59332  69.60  1.88  1602  0.13  148     035720\n",
      "3 2018-06-08  59332  70.54  1.90  1602  0.13  148     035720\n",
      "4 2018-06-11  59332  71.16  1.92  1602  0.13  148     035720\n",
      "5 2018-06-12  59332  71.16  1.92  1602  0.13  148     035720\n",
      "6 2018-06-14  59332  69.91  1.89  1602  0.13  148     035720\n",
      "7 2018-06-15  59332  68.35  1.85  1602  0.14  148     035720\n",
      "8 2018-06-18  59332  67.10  1.81  1602  0.14  148     035720\n",
      "9 2018-06-19  59332  66.48  1.79  1602  0.14  148     035720\n"
     ]
    }
   ],
   "source": [
    "#오늘로부터 3년치 fundamental_info수집\n",
    "for company_code in company_code_list:\n",
    "    df = stock.get_market_fundamental_by_date(threeYearsAgo.strftime(\"%Y%m%d\"), today.strftime(\"%Y%m%d\"), company_code)\n",
    "    df[\"stock_code\"] = company_code\n",
    "    df = df.reset_index()\n",
    "    df.columns = [\"date\",\"bps\",\"per\",\"pbr\",\"eps\",\"div\",\"dps\",\"stock_code\"]\n",
    "    print(df.head(10)) # 리스트 10개 출력\n",
    "\n",
    "    df.to_sql(name = 'corp_fundamental_statement', con=engine,if_exists='append', index=False)"
   ]
  },
  {
   "cell_type": "code",
   "execution_count": 36,
   "id": "collect-barbados",
   "metadata": {},
   "outputs": [],
   "source": [
    "#df초기화\n",
    "df2 = pd.DataFrame(index=range(0,0), columns=[\"date\",\"bps\",\"per\",\"pbr\",\"eps\",\"div\",\"dps\",\"stock_code\"])\n",
    "df2.to_sql(name = 'corp_fundamental_statement', con=engine,if_exists='replace', index=False)"
   ]
  },
  {
   "cell_type": "code",
   "execution_count": null,
   "id": "stupid-navigation",
   "metadata": {},
   "outputs": [],
   "source": [
    "#오늘 정보 추가\n",
    "for company_code in company_code_list:\n",
    "    df = stock.get_market_fundamental_by_date(today.strftime(\"%Y%m%d\"), today.strftime(\"%Y%m%d\"), company_code)\n",
    "    df[\"stock_code\"] = company_code\n",
    "    df = df.reset_index()\n",
    "    df.columns = [\"date\",\"bps\",\"per\",\"pbr\",\"eps\",\"div\",\"dps\",\"stock_code\"]\n",
    "    print(df.head(10)) # 리스트 10개 출력\n",
    "\n",
    "    df.to_sql(name = 'corp_fundamental_statement', con=engine,if_exists='append', index=False)"
   ]
  }
 ],
 "metadata": {
  "kernelspec": {
   "display_name": "Python 3",
   "language": "python",
   "name": "python3"
  },
  "language_info": {
   "codemirror_mode": {
    "name": "ipython",
    "version": 3
   },
   "file_extension": ".py",
   "mimetype": "text/x-python",
   "name": "python",
   "nbconvert_exporter": "python",
   "pygments_lexer": "ipython3",
   "version": "3.7.9"
  }
 },
 "nbformat": 4,
 "nbformat_minor": 5
}
