{
 "cells": [
  {
   "cell_type": "code",
   "execution_count": 140,
   "id": "editorial-arbor",
   "metadata": {},
   "outputs": [],
   "source": [
    "from urllib.request import urlopen\n",
    "import pandas as pd\n",
    "from bs4 import BeautifulSoup\n",
    "import webbrowser\n",
    "import dart_fss as dart\n",
    "import json\n",
    "import pymysql"
   ]
  },
  {
   "cell_type": "code",
   "execution_count": 141,
   "id": "increasing-water",
   "metadata": {},
   "outputs": [],
   "source": [
    "myHost=\"fadodb.cdhgfueefwts.ap-northeast-2.rds.amazonaws.com\"\n",
    "myUser=\"root\"\n",
    "myPw=\"cseadmindb\"\n",
    "myDb=\"INVESTAR\"\n",
    "\n",
    "#DB Connection\n",
    "conn = pymysql.connect(host=myHost,user=myUser,password=myPw,db=myDb,charset=\"utf8\")\n",
    "cur = conn.cursor()\n"
   ]
  },
  {
   "cell_type": "code",
   "execution_count": 142,
   "id": "sophisticated-oxide",
   "metadata": {},
   "outputs": [],
   "source": [
    "auth_key=\"-\"\n",
    "company_code=\"00126380\"\n",
    "bsns_year=[\"2015\",\"2016\",\"2017\",\"2018\",\"2019\",\"2020\"]\n",
    "#1분기보고서 : 11013, 반기보고서 : 110123, \n",
    "#분기보고서 : 11014, 사업보고서 : 11011\n",
    "reprt_code=[\"11013\",\"11012\",\"11014\",\"11011\"]"
   ]
  },
  {
   "cell_type": "code",
   "execution_count": 143,
   "id": "automotive-kuwait",
   "metadata": {
    "scrolled": true
   },
   "outputs": [],
   "source": [
    "sql =\"truncate corp_financial_statement\"\n",
    "cur.execute(sql)\n",
    "\n",
    "for year in bsns_year:\n",
    "    for reprt in reprt_code:\n",
    "        url = \"https://opendart.fss.or.kr/api/fnlttSinglAcnt.json?crtfc_key=\"+auth_key+\"&corp_code=\"+company_code+\"&bsns_year=\"+year+\"&reprt_code=\"+reprt\n",
    "        resultXML=urlopen(url)  #this is for response of XML\n",
    "        stringText=resultXML.read().decode(\"utf-8\")\n",
    "        data = json.loads(stringText)\n",
    "        \n",
    "        #데이터가 접근가능상태인가?\n",
    "        if(data[\"status\"]==\"000\"):\n",
    "            for item in data['list']:\n",
    "                #연결재무재표만 query\n",
    "                if item['fs_div'] in ['CFS']:   \n",
    "                    if item['account_nm'] in ['매출액']:\n",
    "                        ss = item['thstrm_amount'].replace(\",\",\"\")\n",
    "                    if item['account_nm'] in ['영업이익']:\n",
    "                        oi= item['thstrm_amount'].replace(\",\",\"\")\n",
    "                    if item['account_nm'] in ['당기순이익']:\n",
    "                        ni = item['thstrm_amount'].replace(\",\",\"\")\n",
    "                    if item['account_nm'] in ['자본총계']:\n",
    "                        tl = item['thstrm_amount'].replace(\",\",\"\")\n",
    "                    if item['account_nm'] in ['부채총계']:\n",
    "                        te = item['thstrm_amount'].replace(\",\",\"\")\n",
    "            sql = \"INSERT INTO corp_financial_statement values ('\"+company_code+\"',\"+year+\",'\"+reprt+\"',\"+ss+\",\"+oi+\",\"+ni+\",\"+tl+\",\"+te+\")\"\n",
    "            ss, oi, ni, tl, te = \"\",\"\",\"\",\"\",\"\"\n",
    "            cur.execute(sql)\n",
    "                    \n",
    "                    "
   ]
  },
  {
   "cell_type": "code",
   "execution_count": 144,
   "id": "chicken-hollywood",
   "metadata": {},
   "outputs": [],
   "source": [
    "conn.commit()\n",
    "conn.close()"
   ]
  },
  {
   "cell_type": "code",
   "execution_count": null,
   "id": "provincial-lying",
   "metadata": {},
   "outputs": [],
   "source": []
  }
 ],
 "metadata": {
  "kernelspec": {
   "display_name": "Python 3",
   "language": "python",
   "name": "python3"
  },
  "language_info": {
   "codemirror_mode": {
    "name": "ipython",
    "version": 3
   },
   "file_extension": ".py",
   "mimetype": "text/x-python",
   "name": "python",
   "nbconvert_exporter": "python",
   "pygments_lexer": "ipython3",
   "version": "3.7.9"
  }
 },
 "nbformat": 4,
 "nbformat_minor": 5
}
