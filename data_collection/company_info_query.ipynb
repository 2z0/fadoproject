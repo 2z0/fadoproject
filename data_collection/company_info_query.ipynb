{
 "cells": [
  {
   "cell_type": "code",
   "execution_count": 1,
   "id": "ready-orange",
   "metadata": {},
   "outputs": [],
   "source": [
    "import requests\n",
    "from io import BytesIO\n",
    "import zipfile \n",
    "import xmltodict\n",
    "import json\n",
    "import pymysql\n",
    "import info"
   ]
  },
  {
   "cell_type": "code",
   "execution_count": 2,
   "id": "pretty-chassis",
   "metadata": {},
   "outputs": [],
   "source": [
    "conn = pymysql.connect(host=info.myHost,user=info.myUser,password=info.myPw,db=info.myDb,charset=\"utf8\")\n",
    "cur = conn.cursor()"
   ]
  },
  {
   "cell_type": "code",
   "execution_count": 3,
   "id": "genetic-crazy",
   "metadata": {},
   "outputs": [],
   "source": [
    "\n",
    "api = 'https://opendart.fss.or.kr/api/corpCode.xml'\n",
    "\n",
    "res = requests.get(api, params={'crtfc_key': info.crtfc_key})\n",
    "z = zipfile.ZipFile(BytesIO(res.content))\n",
    "data_xml = z.read('CORPCODE.xml').decode('utf-8')\n",
    "data_odict = xmltodict.parse(data_xml)\n",
    "data_dict = json.loads(json.dumps(data_odict))\n",
    "data = data_dict.get('result', {}).get('list')"
   ]
  },
  {
   "cell_type": "code",
   "execution_count": 4,
   "id": "prompt-pacific",
   "metadata": {},
   "outputs": [
    {
     "name": "stdout",
     "output_type": "stream",
     "text": [
      "{'corp_code': '00126380', 'corp_name': '삼성전자', 'stock_code': '005930', 'modify_date': '20201209'}\n",
      "삼성전자\n",
      "{'corp_code': '00356361', 'corp_name': 'LG화학', 'stock_code': '051910', 'modify_date': '20210510'}\n",
      "LG화학\n",
      "{'corp_code': '00164779', 'corp_name': 'SK하이닉스', 'stock_code': '000660', 'modify_date': '20210511'}\n",
      "SK하이닉스\n"
     ]
    }
   ],
   "source": [
    "\n",
    "for item in data:\n",
    "    if item['stock_code'] in [\"005930\",\"051910\",\"000660\"]: #삼성전자, LG화학, SK하이닉스\n",
    "        print(item)\n",
    "        print(item['corp_name'])\n",
    "        sql = \"update company_info set corp_code = '\"+item['corp_code']+\"',modify_date ='\"+item['modify_date']+\"' where stock_code='\"+item['stock_code']+\"'\"\n",
    "        cur.execute(sql)"
   ]
  },
  {
   "cell_type": "code",
   "execution_count": 5,
   "id": "organic-billion",
   "metadata": {},
   "outputs": [],
   "source": [
    "conn.commit()\n",
    "conn.close()"
   ]
  },
  {
   "cell_type": "code",
   "execution_count": null,
   "id": "violent-norfolk",
   "metadata": {},
   "outputs": [],
   "source": []
  }
 ],
 "metadata": {
  "kernelspec": {
   "display_name": "Python 3",
   "language": "python",
   "name": "python3"
  },
  "language_info": {
   "codemirror_mode": {
    "name": "ipython",
    "version": 3
   },
   "file_extension": ".py",
   "mimetype": "text/x-python",
   "name": "python",
   "nbconvert_exporter": "python",
   "pygments_lexer": "ipython3",
   "version": "3.7.9"
  }
 },
 "nbformat": 4,
 "nbformat_minor": 5
}
